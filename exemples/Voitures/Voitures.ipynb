{
 "cells": [
  {
   "cell_type": "markdown",
   "id": "495a5e48",
   "metadata": {},
   "source": [
    "<center>\n",
    "    <h1>\n",
    "    Voitures (ACP, ACM et AFDM)<br>\n",
    "    </h1>\n",
    "</center>"
   ]
  },
  {
   "cell_type": "code",
   "execution_count": 1,
   "id": "f151979a-d156-4fe7-8e3a-50bbd7176c68",
   "metadata": {
    "jupyter": {
     "source_hidden": true
    }
   },
   "outputs": [
    {
     "data": {
      "text/html": [
       "\n",
       "<!-- styles d'affichage -->\n",
       "<style>\n",
       "    .section_div {\n",
       "        width:70%;\n",
       "        height:1.5px;\n",
       "        border:none;\n",
       "        color:black;\n",
       "        background-color:black;\n",
       "        margin: auto;\n",
       "        margin-top: 0px;\n",
       "        margin-bottom: 0px;\n",
       "    }\n",
       "\n",
       "    .answer {\n",
       "        color:blue;\n",
       "    }\n",
       "\n",
       "    .question {\n",
       "        color:red;\n",
       "    }\n",
       "\n",
       "    .note {\n",
       "        color:green;\n",
       "        font-weight: bold;\n",
       "    }\n",
       "</style>\n"
      ],
      "text/plain": [
       "<IPython.core.display.HTML object>"
      ]
     },
     "metadata": {},
     "output_type": "display_data"
    }
   ],
   "source": [
    "%%html\n",
    "\n",
    "<!-- styles d'affichage -->\n",
    "<style>\n",
    "    .section_div {\n",
    "        width:70%;\n",
    "        height:1.5px;\n",
    "        border:none;\n",
    "        color:black;\n",
    "        background-color:black;\n",
    "        margin: auto;\n",
    "        margin-top: 0px;\n",
    "        margin-bottom: 0px;\n",
    "    }\n",
    "\n",
    "    .answer {\n",
    "        color:blue;\n",
    "    }\n",
    "\n",
    "    .question {\n",
    "        color:red;\n",
    "    }\n",
    "\n",
    "    .note {\n",
    "        color:green;\n",
    "        font-weight: bold;\n",
    "    }\n",
    "</style>"
   ]
  },
  {
   "cell_type": "code",
   "execution_count": 2,
   "id": "127c7b16-40f6-4a49-92cc-91f94fd91e50",
   "metadata": {},
   "outputs": [],
   "source": [
    "#\n",
    "# assure le reload de src si modifications sont faite\n",
    "#\n",
    "%load_ext autoreload\n",
    "%autoreload 2"
   ]
  },
  {
   "cell_type": "code",
   "execution_count": 3,
   "id": "88550d88",
   "metadata": {
    "ExecuteTime": {
     "end_time": "2023-06-02T00:33:47.531008Z",
     "start_time": "2023-06-02T00:33:45.775667Z"
    }
   },
   "outputs": [],
   "source": [
    "#\n",
    "# import utilitaires\n",
    "#\n",
    "%matplotlib inline\n",
    "\n",
    "import math\n",
    "import matplotlib.pyplot as plt\n",
    "import numpy as np\n",
    "import pandas as pd\n",
    "import scipy as sp\n",
    "import seaborn as sns\n",
    "\n",
    "from pathlib import Path\n",
    "from sklearn.preprocessing import StandardScaler"
   ]
  },
  {
   "cell_type": "code",
   "execution_count": 4,
   "id": "9b22e21a-7a19-4956-9eb3-985c1682af74",
   "metadata": {},
   "outputs": [],
   "source": [
    "#\n",
    "# import package develope pour le projet\n",
    "#\n",
    "import aihelpers.unsupervised as ai\n",
    "import aihelpers.unsupervised.association_rules as rules"
   ]
  },
  {
   "cell_type": "code",
   "execution_count": 5,
   "id": "d9d87ac6-2993-4c61-904d-b4c4f0356f39",
   "metadata": {},
   "outputs": [],
   "source": [
    "#\n",
    "# enleve quelques soucis a l'affichage\n",
    "#\n",
    "np.set_printoptions(suppress=True, linewidth=200)"
   ]
  },
  {
   "cell_type": "markdown",
   "id": "5f238f2a",
   "metadata": {},
   "source": [
    "# Analyses ACP, ACM, AFDM\n",
    "\n",
    "- 3 types d’analyse :\n",
    "    * ACP avec les données continues uniquement\n",
    "    * ACM avec les données catégorielles\n",
    "    * AFDM avec l’ensemble des données"
   ]
  },
  {
   "cell_type": "markdown",
   "id": "31053d0a",
   "metadata": {},
   "source": [
    "**0.1 Charger le fichier « Voitures.csv » en utilisant la librairie Pandas**"
   ]
  },
  {
   "cell_type": "code",
   "execution_count": 6,
   "id": "94c17b60",
   "metadata": {
    "ExecuteTime": {
     "end_time": "2023-06-02T00:33:47.558200Z",
     "start_time": "2023-06-02T00:33:47.539155Z"
    }
   },
   "outputs": [
    {
     "data": {
      "text/html": [
       "<div>\n",
       "<style scoped>\n",
       "    .dataframe tbody tr th:only-of-type {\n",
       "        vertical-align: middle;\n",
       "    }\n",
       "\n",
       "    .dataframe tbody tr th {\n",
       "        vertical-align: top;\n",
       "    }\n",
       "\n",
       "    .dataframe thead th {\n",
       "        text-align: right;\n",
       "    }\n",
       "</style>\n",
       "<table border=\"1\" class=\"dataframe\">\n",
       "  <thead>\n",
       "    <tr style=\"text-align: right;\">\n",
       "      <th></th>\n",
       "      <th>puissance</th>\n",
       "      <th>Longueur</th>\n",
       "      <th>Hauteur</th>\n",
       "      <th>poids</th>\n",
       "      <th>CO2</th>\n",
       "      <th>Origine</th>\n",
       "      <th>Carburant</th>\n",
       "      <th>4X4</th>\n",
       "    </tr>\n",
       "    <tr>\n",
       "      <th>Modele</th>\n",
       "      <th></th>\n",
       "      <th></th>\n",
       "      <th></th>\n",
       "      <th></th>\n",
       "      <th></th>\n",
       "      <th></th>\n",
       "      <th></th>\n",
       "      <th></th>\n",
       "    </tr>\n",
       "  </thead>\n",
       "  <tbody>\n",
       "    <tr>\n",
       "      <th>Alfasud TI</th>\n",
       "      <td>75</td>\n",
       "      <td>421</td>\n",
       "      <td>149</td>\n",
       "      <td>1217</td>\n",
       "      <td>143</td>\n",
       "      <td>Europe</td>\n",
       "      <td>Diesel</td>\n",
       "      <td>non</td>\n",
       "    </tr>\n",
       "    <tr>\n",
       "      <th>Audi 100</th>\n",
       "      <td>138</td>\n",
       "      <td>426</td>\n",
       "      <td>146</td>\n",
       "      <td>1381</td>\n",
       "      <td>142</td>\n",
       "      <td>France</td>\n",
       "      <td>Diesel</td>\n",
       "      <td>non</td>\n",
       "    </tr>\n",
       "    <tr>\n",
       "      <th>Simca 1300</th>\n",
       "      <td>204</td>\n",
       "      <td>491</td>\n",
       "      <td>145</td>\n",
       "      <td>1723</td>\n",
       "      <td>223</td>\n",
       "      <td>France</td>\n",
       "      <td>Diesel</td>\n",
       "      <td>non</td>\n",
       "    </tr>\n",
       "    <tr>\n",
       "      <th>Citroen GS Club</th>\n",
       "      <td>150</td>\n",
       "      <td>486</td>\n",
       "      <td>158</td>\n",
       "      <td>1735</td>\n",
       "      <td>188</td>\n",
       "      <td>France</td>\n",
       "      <td>Diesel</td>\n",
       "      <td>non</td>\n",
       "    </tr>\n",
       "    <tr>\n",
       "      <th>Fiat 132</th>\n",
       "      <td>61</td>\n",
       "      <td>367</td>\n",
       "      <td>147</td>\n",
       "      <td>932</td>\n",
       "      <td>141</td>\n",
       "      <td>France</td>\n",
       "      <td>Essence</td>\n",
       "      <td>non</td>\n",
       "    </tr>\n",
       "    <tr>\n",
       "      <th>Lancia Beta</th>\n",
       "      <td>340</td>\n",
       "      <td>502</td>\n",
       "      <td>148</td>\n",
       "      <td>1835</td>\n",
       "      <td>291</td>\n",
       "      <td>Autre</td>\n",
       "      <td>Essence</td>\n",
       "      <td>non</td>\n",
       "    </tr>\n",
       "    <tr>\n",
       "      <th>Peugeot 504</th>\n",
       "      <td>102</td>\n",
       "      <td>421</td>\n",
       "      <td>143</td>\n",
       "      <td>1205</td>\n",
       "      <td>168</td>\n",
       "      <td>Europe</td>\n",
       "      <td>Essence</td>\n",
       "      <td>non</td>\n",
       "    </tr>\n",
       "    <tr>\n",
       "      <th>Renault 16 TL</th>\n",
       "      <td>202</td>\n",
       "      <td>455</td>\n",
       "      <td>167</td>\n",
       "      <td>1595</td>\n",
       "      <td>237</td>\n",
       "      <td>Autre</td>\n",
       "      <td>Diesel</td>\n",
       "      <td>oui</td>\n",
       "    </tr>\n",
       "    <tr>\n",
       "      <th>Renault 30</th>\n",
       "      <td>223</td>\n",
       "      <td>429</td>\n",
       "      <td>154</td>\n",
       "      <td>1595</td>\n",
       "      <td>235</td>\n",
       "      <td>Autre</td>\n",
       "      <td>Essence</td>\n",
       "      <td>non</td>\n",
       "    </tr>\n",
       "    <tr>\n",
       "      <th>Toyota Corolla</th>\n",
       "      <td>125</td>\n",
       "      <td>450</td>\n",
       "      <td>173</td>\n",
       "      <td>1757</td>\n",
       "      <td>197</td>\n",
       "      <td>Autre</td>\n",
       "      <td>Diesel</td>\n",
       "      <td>oui</td>\n",
       "    </tr>\n",
       "  </tbody>\n",
       "</table>\n",
       "</div>"
      ],
      "text/plain": [
       "                 puissance  Longueur  Hauteur  poids  CO2 Origine Carburant  \\\n",
       "Modele                                                                        \n",
       "Alfasud TI              75       421      149   1217  143  Europe    Diesel   \n",
       "Audi 100               138       426      146   1381  142  France    Diesel   \n",
       "Simca 1300             204       491      145   1723  223  France    Diesel   \n",
       "Citroen GS Club        150       486      158   1735  188  France    Diesel   \n",
       "Fiat 132                61       367      147    932  141  France   Essence   \n",
       "Lancia Beta            340       502      148   1835  291   Autre   Essence   \n",
       "Peugeot 504            102       421      143   1205  168  Europe   Essence   \n",
       "Renault 16 TL          202       455      167   1595  237   Autre    Diesel   \n",
       "Renault 30             223       429      154   1595  235   Autre   Essence   \n",
       "Toyota Corolla         125       450      173   1757  197   Autre    Diesel   \n",
       "\n",
       "                 4X4  \n",
       "Modele                \n",
       "Alfasud TI       non  \n",
       "Audi 100         non  \n",
       "Simca 1300       non  \n",
       "Citroen GS Club  non  \n",
       "Fiat 132         non  \n",
       "Lancia Beta      non  \n",
       "Peugeot 504      non  \n",
       "Renault 16 TL    oui  \n",
       "Renault 30       non  \n",
       "Toyota Corolla   oui  "
      ]
     },
     "metadata": {},
     "output_type": "display_data"
    },
    {
     "name": "stdout",
     "output_type": "stream",
     "text": [
      "(10, 8)\n"
     ]
    }
   ],
   "source": [
    "voitures_df = pd.read_csv(\"Voitures.csv\", delimiter=\";\", index_col=0)\n",
    "\n",
    "display(voitures_df)\n",
    "print(voitures_df.shape)"
   ]
  },
  {
   "cell_type": "markdown",
   "id": "6cdbcec1",
   "metadata": {},
   "source": [
    "<font class=\"answer\">\n",
    "\n",
    "* 10 individus\n",
    "* 8 variables (Modele semble être utilisé comme identificateur, donc on n'en tient pas compte, cellule précédante le met comme index)\n",
    "* Pas de valeurs nulles"
   ]
  },
  {
   "cell_type": "markdown",
   "id": "d098d605",
   "metadata": {},
   "source": [
    "**0.2 Vérifier les types de données**"
   ]
  },
  {
   "cell_type": "code",
   "execution_count": 7,
   "id": "df065f10",
   "metadata": {
    "ExecuteTime": {
     "end_time": "2023-06-02T00:33:47.565867Z",
     "start_time": "2023-06-02T00:33:47.562028Z"
    }
   },
   "outputs": [
    {
     "name": "stdout",
     "output_type": "stream",
     "text": [
      "Types\n"
     ]
    },
    {
     "data": {
      "text/html": [
       "<div>\n",
       "<style scoped>\n",
       "    .dataframe tbody tr th:only-of-type {\n",
       "        vertical-align: middle;\n",
       "    }\n",
       "\n",
       "    .dataframe tbody tr th {\n",
       "        vertical-align: top;\n",
       "    }\n",
       "\n",
       "    .dataframe thead th {\n",
       "        text-align: right;\n",
       "    }\n",
       "</style>\n",
       "<table border=\"1\" class=\"dataframe\">\n",
       "  <thead>\n",
       "    <tr style=\"text-align: right;\">\n",
       "      <th></th>\n",
       "      <th>puissance</th>\n",
       "      <th>Longueur</th>\n",
       "      <th>Hauteur</th>\n",
       "      <th>poids</th>\n",
       "      <th>CO2</th>\n",
       "      <th>Origine</th>\n",
       "      <th>Carburant</th>\n",
       "      <th>4X4</th>\n",
       "    </tr>\n",
       "  </thead>\n",
       "  <tbody>\n",
       "    <tr>\n",
       "      <th>Type</th>\n",
       "      <td>int64</td>\n",
       "      <td>int64</td>\n",
       "      <td>int64</td>\n",
       "      <td>int64</td>\n",
       "      <td>int64</td>\n",
       "      <td>object</td>\n",
       "      <td>object</td>\n",
       "      <td>object</td>\n",
       "    </tr>\n",
       "  </tbody>\n",
       "</table>\n",
       "</div>"
      ],
      "text/plain": [
       "     puissance Longueur Hauteur  poids    CO2 Origine Carburant     4X4\n",
       "Type     int64    int64   int64  int64  int64  object    object  object"
      ]
     },
     "metadata": {},
     "output_type": "display_data"
    }
   ],
   "source": [
    "ai.show_types(voitures_df)"
   ]
  },
  {
   "cell_type": "markdown",
   "id": "a3dd13a7",
   "metadata": {},
   "source": [
    "<font class=\"answer\">\n",
    "    \n",
    "* puissance, Longueur, Hauteur, poids, CO2 sont quantitatives\n",
    "* Origine, Carburant, 4X4 sont qualitatives"
   ]
  },
  {
   "cell_type": "markdown",
   "id": "d238918a",
   "metadata": {},
   "source": [
    "**1. Standardiser les données**"
   ]
  },
  {
   "cell_type": "code",
   "execution_count": 8,
   "id": "f7ff0003",
   "metadata": {
    "ExecuteTime": {
     "end_time": "2023-06-02T00:33:47.587775Z",
     "start_time": "2023-06-02T00:33:47.568109Z"
    },
    "cell_style": "center"
   },
   "outputs": [
    {
     "name": "stdout",
     "output_type": "stream",
     "text": [
      "Valeurs propres:\n",
      "[3.9065 1.1385 0.4282 0.0576 0.0248]\n",
      "\n",
      "Valeurs propres > 1:\n",
      "[3.9065 1.1385]\n",
      "\n",
      "Valeurs propres > 2.3333 (saporta):\n",
      "[3.9065]\n",
      "\n",
      "Variance expliquee %:\n",
      "[70.3 20.5  7.7  1.   0.4]\n",
      "\n",
      "Variance expliquee cumul. %:\n",
      "[ 70.3  90.8  98.5  99.6 100. ]\n",
      "\n"
     ]
    },
    {
     "data": {
      "image/png": "[encoded data removed]",
      "text/plain": [
       "<Figure size 400x250 with 1 Axes>"
      ]
     },
     "metadata": {},
     "output_type": "display_data"
    }
   ],
   "source": [
    "#\n",
    "# ACP\n",
    "#\n",
    "quant_df = voitures_df[[\"puissance\", \"Longueur\", \"Hauteur\", \"poids\", \"CO2\"]]\n",
    "\n",
    "quant_std = StandardScaler().fit_transform(quant_df)\n",
    "quant_std = pd.DataFrame(quant_std,\n",
    "                         index=quant_df.index,\n",
    "                         columns=quant_df.columns)\n",
    "\n",
    "ai.pca_analysis(quant_std)"
   ]
  },
  {
   "cell_type": "code",
   "execution_count": 9,
   "id": "b6925bd4",
   "metadata": {
    "ExecuteTime": {
     "end_time": "2023-06-02T00:33:47.599856Z",
     "start_time": "2023-06-02T00:33:47.590202Z"
    },
    "cell_style": "center"
   },
   "outputs": [
    {
     "name": "stdout",
     "output_type": "stream",
     "text": [
      "Valeurs propres:\n",
      "[0.5573 0.4167 0.3021 0.0573]\n",
      "\n",
      "Valeurs propres > 0.3333 (1 / p):\n",
      "[0.5573 0.4167]\n",
      "\n",
      "Variance expliquee %:\n",
      "[41.8 31.3 22.7  4.3]\n",
      "\n",
      "Variance expliquee cumul. %:\n",
      "[ 41.8  73.   95.7 100. ]\n",
      "\n"
     ]
    },
    {
     "data": {
      "image/png": "[encoded data removed]",
      "text/plain": [
       "<Figure size 400x250 with 1 Axes>"
      ]
     },
     "metadata": {},
     "output_type": "display_data"
    }
   ],
   "source": [
    "#\n",
    "# ACM\n",
    "#\n",
    "qual_df = voitures_df[ [\"Origine\", \"Carburant\", \"4X4\" ] ]\n",
    "\n",
    "ai.acm_analysis(qual_df)"
   ]
  },
  {
   "cell_type": "markdown",
   "id": "86d40070",
   "metadata": {},
   "source": [
    "<font class=\"answer\">\n",
    "\n",
    "Le graphe montre un coude à 3 axes pour 95.7% de variance expliquée cumulative. Kaiser en prend 2 pour 73% de variance expliquée cumulative."
   ]
  },
  {
   "cell_type": "code",
   "execution_count": 10,
   "id": "116bb947",
   "metadata": {
    "ExecuteTime": {
     "end_time": "2023-06-02T00:33:47.631910Z",
     "start_time": "2023-06-02T00:33:47.602849Z"
    }
   },
   "outputs": [
    {
     "name": "stdout",
     "output_type": "stream",
     "text": [
      "AFDM - Toutes les données standardisées\n"
     ]
    },
    {
     "data": {
      "text/html": [
       "<div>\n",
       "<style scoped>\n",
       "    .dataframe tbody tr th:only-of-type {\n",
       "        vertical-align: middle;\n",
       "    }\n",
       "\n",
       "    .dataframe tbody tr th {\n",
       "        vertical-align: top;\n",
       "    }\n",
       "\n",
       "    .dataframe thead th {\n",
       "        text-align: right;\n",
       "    }\n",
       "</style>\n",
       "<table border=\"1\" class=\"dataframe\">\n",
       "  <thead>\n",
       "    <tr style=\"text-align: right;\">\n",
       "      <th></th>\n",
       "      <th>puissance</th>\n",
       "      <th>Longueur</th>\n",
       "      <th>Hauteur</th>\n",
       "      <th>poids</th>\n",
       "      <th>CO2</th>\n",
       "      <th>Origine_Autre</th>\n",
       "      <th>Origine_Europe</th>\n",
       "      <th>Origine_France</th>\n",
       "      <th>Carburant_Diesel</th>\n",
       "      <th>Carburant_Essence</th>\n",
       "      <th>4X4_non</th>\n",
       "      <th>4X4_oui</th>\n",
       "    </tr>\n",
       "    <tr>\n",
       "      <th>Modele</th>\n",
       "      <th></th>\n",
       "      <th></th>\n",
       "      <th></th>\n",
       "      <th></th>\n",
       "      <th></th>\n",
       "      <th></th>\n",
       "      <th></th>\n",
       "      <th></th>\n",
       "      <th></th>\n",
       "      <th></th>\n",
       "      <th></th>\n",
       "      <th></th>\n",
       "    </tr>\n",
       "  </thead>\n",
       "  <tbody>\n",
       "    <tr>\n",
       "      <th>Alfasud TI</th>\n",
       "      <td>-1.103</td>\n",
       "      <td>-0.614</td>\n",
       "      <td>-0.419</td>\n",
       "      <td>-0.989</td>\n",
       "      <td>-1.127</td>\n",
       "      <td>0.000</td>\n",
       "      <td>2.236</td>\n",
       "      <td>0.000</td>\n",
       "      <td>1.291</td>\n",
       "      <td>0.000</td>\n",
       "      <td>1.118</td>\n",
       "      <td>0.000</td>\n",
       "    </tr>\n",
       "    <tr>\n",
       "      <th>Audi 100</th>\n",
       "      <td>-0.304</td>\n",
       "      <td>-0.485</td>\n",
       "      <td>-0.733</td>\n",
       "      <td>-0.411</td>\n",
       "      <td>-1.148</td>\n",
       "      <td>0.000</td>\n",
       "      <td>0.000</td>\n",
       "      <td>1.581</td>\n",
       "      <td>1.291</td>\n",
       "      <td>0.000</td>\n",
       "      <td>1.118</td>\n",
       "      <td>0.000</td>\n",
       "    </tr>\n",
       "    <tr>\n",
       "      <th>Simca 1300</th>\n",
       "      <td>0.532</td>\n",
       "      <td>1.192</td>\n",
       "      <td>-0.838</td>\n",
       "      <td>0.795</td>\n",
       "      <td>0.558</td>\n",
       "      <td>0.000</td>\n",
       "      <td>0.000</td>\n",
       "      <td>1.581</td>\n",
       "      <td>1.291</td>\n",
       "      <td>0.000</td>\n",
       "      <td>1.118</td>\n",
       "      <td>0.000</td>\n",
       "    </tr>\n",
       "    <tr>\n",
       "      <th>Citroen GS Club</th>\n",
       "      <td>-0.152</td>\n",
       "      <td>1.063</td>\n",
       "      <td>0.524</td>\n",
       "      <td>0.837</td>\n",
       "      <td>-0.179</td>\n",
       "      <td>0.000</td>\n",
       "      <td>0.000</td>\n",
       "      <td>1.581</td>\n",
       "      <td>1.291</td>\n",
       "      <td>0.000</td>\n",
       "      <td>1.118</td>\n",
       "      <td>0.000</td>\n",
       "    </tr>\n",
       "    <tr>\n",
       "      <th>Fiat 132</th>\n",
       "      <td>-1.280</td>\n",
       "      <td>-2.007</td>\n",
       "      <td>-0.628</td>\n",
       "      <td>-1.993</td>\n",
       "      <td>-1.169</td>\n",
       "      <td>0.000</td>\n",
       "      <td>0.000</td>\n",
       "      <td>1.581</td>\n",
       "      <td>0.000</td>\n",
       "      <td>1.581</td>\n",
       "      <td>1.118</td>\n",
       "      <td>0.000</td>\n",
       "    </tr>\n",
       "    <tr>\n",
       "      <th>Lancia Beta</th>\n",
       "      <td>2.256</td>\n",
       "      <td>1.476</td>\n",
       "      <td>-0.524</td>\n",
       "      <td>1.189</td>\n",
       "      <td>1.990</td>\n",
       "      <td>1.581</td>\n",
       "      <td>0.000</td>\n",
       "      <td>0.000</td>\n",
       "      <td>0.000</td>\n",
       "      <td>1.581</td>\n",
       "      <td>1.118</td>\n",
       "      <td>0.000</td>\n",
       "    </tr>\n",
       "    <tr>\n",
       "      <th>Peugeot 504</th>\n",
       "      <td>-0.761</td>\n",
       "      <td>-0.614</td>\n",
       "      <td>-1.047</td>\n",
       "      <td>-1.031</td>\n",
       "      <td>-0.600</td>\n",
       "      <td>0.000</td>\n",
       "      <td>2.236</td>\n",
       "      <td>0.000</td>\n",
       "      <td>0.000</td>\n",
       "      <td>1.581</td>\n",
       "      <td>1.118</td>\n",
       "      <td>0.000</td>\n",
       "    </tr>\n",
       "    <tr>\n",
       "      <th>Renault 16 TL</th>\n",
       "      <td>0.507</td>\n",
       "      <td>0.263</td>\n",
       "      <td>1.466</td>\n",
       "      <td>0.344</td>\n",
       "      <td>0.853</td>\n",
       "      <td>1.581</td>\n",
       "      <td>0.000</td>\n",
       "      <td>0.000</td>\n",
       "      <td>1.291</td>\n",
       "      <td>0.000</td>\n",
       "      <td>0.000</td>\n",
       "      <td>2.236</td>\n",
       "    </tr>\n",
       "    <tr>\n",
       "      <th>Renault 30</th>\n",
       "      <td>0.773</td>\n",
       "      <td>-0.408</td>\n",
       "      <td>0.105</td>\n",
       "      <td>0.344</td>\n",
       "      <td>0.811</td>\n",
       "      <td>1.581</td>\n",
       "      <td>0.000</td>\n",
       "      <td>0.000</td>\n",
       "      <td>0.000</td>\n",
       "      <td>1.581</td>\n",
       "      <td>1.118</td>\n",
       "      <td>0.000</td>\n",
       "    </tr>\n",
       "    <tr>\n",
       "      <th>Toyota Corolla</th>\n",
       "      <td>-0.469</td>\n",
       "      <td>0.134</td>\n",
       "      <td>2.094</td>\n",
       "      <td>0.915</td>\n",
       "      <td>0.011</td>\n",
       "      <td>1.581</td>\n",
       "      <td>0.000</td>\n",
       "      <td>0.000</td>\n",
       "      <td>1.291</td>\n",
       "      <td>0.000</td>\n",
       "      <td>0.000</td>\n",
       "      <td>2.236</td>\n",
       "    </tr>\n",
       "  </tbody>\n",
       "</table>\n",
       "</div>"
      ],
      "text/plain": [
       "                 puissance  Longueur  Hauteur  poids    CO2  Origine_Autre  \\\n",
       "Modele                                                                       \n",
       "Alfasud TI          -1.103    -0.614   -0.419 -0.989 -1.127          0.000   \n",
       "Audi 100            -0.304    -0.485   -0.733 -0.411 -1.148          0.000   \n",
       "Simca 1300           0.532     1.192   -0.838  0.795  0.558          0.000   \n",
       "Citroen GS Club     -0.152     1.063    0.524  0.837 -0.179          0.000   \n",
       "Fiat 132            -1.280    -2.007   -0.628 -1.993 -1.169          0.000   \n",
       "Lancia Beta          2.256     1.476   -0.524  1.189  1.990          1.581   \n",
       "Peugeot 504         -0.761    -0.614   -1.047 -1.031 -0.600          0.000   \n",
       "Renault 16 TL        0.507     0.263    1.466  0.344  0.853          1.581   \n",
       "Renault 30           0.773    -0.408    0.105  0.344  0.811          1.581   \n",
       "Toyota Corolla      -0.469     0.134    2.094  0.915  0.011          1.581   \n",
       "\n",
       "                 Origine_Europe  Origine_France  Carburant_Diesel  \\\n",
       "Modele                                                              \n",
       "Alfasud TI                2.236           0.000             1.291   \n",
       "Audi 100                  0.000           1.581             1.291   \n",
       "Simca 1300                0.000           1.581             1.291   \n",
       "Citroen GS Club           0.000           1.581             1.291   \n",
       "Fiat 132                  0.000           1.581             0.000   \n",
       "Lancia Beta               0.000           0.000             0.000   \n",
       "Peugeot 504               2.236           0.000             0.000   \n",
       "Renault 16 TL             0.000           0.000             1.291   \n",
       "Renault 30                0.000           0.000             0.000   \n",
       "Toyota Corolla            0.000           0.000             1.291   \n",
       "\n",
       "                 Carburant_Essence  4X4_non  4X4_oui  \n",
       "Modele                                                \n",
       "Alfasud TI                   0.000    1.118    0.000  \n",
       "Audi 100                     0.000    1.118    0.000  \n",
       "Simca 1300                   0.000    1.118    0.000  \n",
       "Citroen GS Club              0.000    1.118    0.000  \n",
       "Fiat 132                     1.581    1.118    0.000  \n",
       "Lancia Beta                  1.581    1.118    0.000  \n",
       "Peugeot 504                  1.581    1.118    0.000  \n",
       "Renault 16 TL                0.000    0.000    2.236  \n",
       "Renault 30                   1.581    1.118    0.000  \n",
       "Toyota Corolla               0.000    0.000    2.236  "
      ]
     },
     "metadata": {},
     "output_type": "display_data"
    },
    {
     "name": "stdout",
     "output_type": "stream",
     "text": [
      "Valeurs propres:\n",
      "[4.7479 2.3577 1.5986 0.9293 0.1823 0.1272 0.0374 0.0176 0.0022 0.    ]\n",
      "\n",
      "Valeurs propres > 1:\n",
      "[4.7479 2.3577 1.5986]\n",
      "\n",
      "Valeurs propres > 3.2111 (saporta):\n",
      "[4.7479]\n",
      "\n",
      "Variance expliquee %:\n",
      "[47.5 23.6 16.   9.3  1.8  1.3  0.4  0.2  0.   0. ]\n",
      "\n",
      "Variance expliquee cumul. %:\n",
      "[ 47.5  71.1  87.   96.3  98.2  99.4  99.8 100.  100.  100. ]\n",
      "\n"
     ]
    },
    {
     "data": {
      "image/png": "[encoded data removed]",
      "text/plain": [
       "<Figure size 400x250 with 1 Axes>"
      ]
     },
     "metadata": {},
     "output_type": "display_data"
    }
   ],
   "source": [
    "#\n",
    "# AFDM\n",
    "#\n",
    "qual_encoded = pd.get_dummies(qual_df)\n",
    "qual_encoded_freq = qual_encoded.sum(axis=0)\n",
    "qual_encoded_freq /= qual_encoded.shape[0]\n",
    "\n",
    "qual_std = qual_encoded.div( np.sqrt(qual_encoded_freq) )\n",
    "\n",
    "# recombiner le tout pour l'AFDM\n",
    "voitures_std = pd.concat([quant_std, qual_std], axis=1)\n",
    "\n",
    "# validation visuelle\n",
    "print(\"AFDM - Toutes les données standardisées\")\n",
    "display(voitures_std.round(3))\n",
    "\n",
    "ai.pca_analysis(voitures_std)"
   ]
  },
  {
   "cell_type": "markdown",
   "id": "ba2020df-eb81-42de-9bfc-ef8488ebc943",
   "metadata": {},
   "source": [
    "**3. Valeurs propres?**\n",
    "\n",
    "<font class=\"answer\">\n",
    "Voir étapes précédentes"
   ]
  },
  {
   "cell_type": "markdown",
   "id": "d5cd5d61",
   "metadata": {},
   "source": [
    "**3. Combien de facteurs à garder?**"
   ]
  },
  {
   "cell_type": "code",
   "execution_count": 11,
   "id": "14fb307d-9cb1-4f6d-9cbb-8572cd6cf2bc",
   "metadata": {
    "ExecuteTime": {
     "end_time": "2023-06-02T00:33:47.866021Z",
     "start_time": "2023-06-02T00:33:47.658134Z"
    },
    "cell_style": "center"
   },
   "outputs": [],
   "source": [
    "#\n",
    "# ACP Coude et Kaiser (valeur propre > 1)\n",
    "#\n",
    "\n",
    "# Voir étapes précédentes"
   ]
  },
  {
   "cell_type": "code",
   "execution_count": 12,
   "id": "074a9bf5",
   "metadata": {
    "ExecuteTime": {
     "end_time": "2023-06-02T00:33:48.047748Z",
     "start_time": "2023-06-02T00:33:47.868159Z"
    },
    "cell_style": "center"
   },
   "outputs": [
    {
     "name": "stdout",
     "output_type": "stream",
     "text": [
      "ACM - max valeurs propres à garder: 4\n",
      "ACM - valeurs propres threshold: 0.3333\n"
     ]
    }
   ],
   "source": [
    "#\n",
    "# ACM - Kaiser\n",
    "#\n",
    "m = qual_encoded.shape[1]\n",
    "p = qual_df.shape[1]\n",
    "max_ = m - p\n",
    "th_ = 1 / p\n",
    "\n",
    "# eigen_vals_acm = acm.eig_[0]\n",
    "# eigen_vals_acm_ = eigen_vals_acm[eigen_vals_acm > th_]\n",
    "\n",
    "print(\"ACM - max valeurs propres à garder:\", max_)\n",
    "print(\"ACM - valeurs propres threshold:\", round(th_, 4))\n",
    "\n",
    "#\n",
    "# ACM - coude\n",
    "#\n",
    "# Voir étapes précédentes"
   ]
  },
  {
   "cell_type": "markdown",
   "id": "9e084a7a",
   "metadata": {},
   "source": [
    "<font class=\"answer\">\n",
    "    \n",
    "* ACM aurait pu garder 3 axes factoriels."
   ]
  },
  {
   "cell_type": "code",
   "execution_count": 13,
   "id": "b44185e5",
   "metadata": {
    "ExecuteTime": {
     "end_time": "2023-06-02T00:33:48.210474Z",
     "start_time": "2023-06-02T00:33:48.050459Z"
    }
   },
   "outputs": [],
   "source": [
    "#\n",
    "# AFDM - critere de Kaiser (valeurs propres > 1)\n",
    "#\n",
    "# Voir étapes précédentes\n",
    "\n",
    "#\n",
    "# AFDM - coude\n",
    "#\n",
    "# Voir étapes précédentes"
   ]
  },
  {
   "cell_type": "markdown",
   "id": "8cac1eac",
   "metadata": {},
   "source": [
    "<font class=\"answer\">\n",
    "    \n",
    "* AFDM aurait pu garder 4 axes factoriels."
   ]
  },
  {
   "cell_type": "markdown",
   "id": "cc0a5e46",
   "metadata": {},
   "source": [
    "**4. Visualiser les 10 voitures du fichier sur les axes factoriels adéquats**"
   ]
  },
  {
   "cell_type": "code",
   "execution_count": 14,
   "id": "52bdfc56",
   "metadata": {
    "ExecuteTime": {
     "end_time": "2023-06-02T00:33:48.437202Z",
     "start_time": "2023-06-02T00:33:48.212900Z"
    }
   },
   "outputs": [
    {
     "data": {
      "image/png": "[encoded data removed]",
      "text/plain": [
       "<Figure size 500x400 with 1 Axes>"
      ]
     },
     "metadata": {},
     "output_type": "display_data"
    }
   ],
   "source": [
    "#\n",
    "# ACP\n",
    "#\n",
    "acp_ = ai.pca_init(quant_std, 2)\n",
    "acp_.mapping_row(1, 2)"
   ]
  },
  {
   "cell_type": "code",
   "execution_count": 15,
   "id": "ac8433b5",
   "metadata": {
    "ExecuteTime": {
     "end_time": "2023-06-02T00:33:48.681449Z",
     "start_time": "2023-06-02T00:33:48.439514Z"
    }
   },
   "outputs": [
    {
     "data": {
      "image/png": "[encoded data removed]",
      "text/plain": [
       "<Figure size 640x480 with 1 Axes>"
      ]
     },
     "metadata": {},
     "output_type": "display_data"
    }
   ],
   "source": [
    "#\n",
    "# ACM\n",
    "#\n",
    "acm_ = ai.acm_init(qual_df, 2)\n",
    "acm_.mapping(1, 2)"
   ]
  },
  {
   "cell_type": "markdown",
   "id": "c2c33eee",
   "metadata": {},
   "source": [
    "<font class=\"answer\">\n",
    "\n",
    "Les chevauchements:\n",
    "* Renault 16 TL et Toyota Corolla sont près de 4x4_oui\n",
    "* Alfasud TI et Fiat 132 sont près de 4x4_non\n",
    "* Simca 1300 et Citroen GS Club prochent de Origine_France et Carburant_Diesel\n",
    "* Lancia Beta et Renault 30 (Peugeot 504 ish) prochent de Origine_Europe et Carburant_Essence"
   ]
  },
  {
   "cell_type": "code",
   "execution_count": 16,
   "id": "779c8660",
   "metadata": {
    "ExecuteTime": {
     "end_time": "2023-06-02T00:41:51.940670Z",
     "start_time": "2023-06-02T00:41:51.723021Z"
    }
   },
   "outputs": [
    {
     "data": {
      "image/png": "[encoded data removed]",
      "text/plain": [
       "<Figure size 500x400 with 1 Axes>"
      ]
     },
     "metadata": {},
     "output_type": "display_data"
    },
    {
     "name": "stdout",
     "output_type": "stream",
     "text": [
      "Dim 1 (47.48%)\n",
      "Dim 2 (23.58%)\n"
     ]
    }
   ],
   "source": [
    "#\n",
    "# AFDM\n",
    "#\n",
    "\n",
    "from pprint import pprint\n",
    "\n",
    "# afdm a garde 3 valeurs propres, comme nous n'avons \n",
    "# qu'une visualisation 2D, on garde 2 coordonnees\n",
    "voitures_projected = ai.pca_init(voitures_std, 2)\n",
    "voitures_projected.mapping_row(1, 2)\n",
    "\n",
    "dim1 = voitures_projected.explained_variance_ratio_[0] * 100\n",
    "dim2 = voitures_projected.explained_variance_ratio_[1] * 100\n",
    "\n",
    "print(f\"Dim 1 ({round(dim1, 2)}%)\")\n",
    "print(f\"Dim 2 ({round(dim2, 2)}%)\")"
   ]
  }
 ],
 "metadata": {
  "hide_input": false,
  "kernelspec": {
   "display_name": "Python 3 (ipykernel)",
   "language": "python",
   "name": "python3"
  },
  "language_info": {
   "codemirror_mode": {
    "name": "ipython",
    "version": 3
   },
   "file_extension": ".py",
   "mimetype": "text/x-python",
   "name": "python",
   "nbconvert_exporter": "python",
   "pygments_lexer": "ipython3",
   "version": "3.9.6"
  },
  "widgets": {
   "application/vnd.jupyter.widget-state+json": {
    "state": {},
    "version_major": 2,
    "version_minor": 0
   }
  }
 },
 "nbformat": 4,
 "nbformat_minor": 5
}

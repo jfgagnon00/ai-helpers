{
 "cells": [
  {
   "cell_type": "markdown",
   "metadata": {},
   "source": [
    "<center>\n",
    "    <h1>\n",
    "    Keras<br>\n",
    "    </h1>\n",
    "</center>"
   ]
  },
  {
   "cell_type": "code",
   "execution_count": null,
   "metadata": {
    "jupyter": {
     "source_hidden": true
    }
   },
   "outputs": [],
   "source": [
    "%%html\n",
    "\n",
    "<!-- styles d'affichage -->\n",
    "<style>\n",
    "    .section_div {\n",
    "        width:70%;\n",
    "        height:1.5px;\n",
    "        border:none;\n",
    "        color:black;\n",
    "        background-color:black;\n",
    "        margin: auto;\n",
    "        margin-top: 0px;\n",
    "        margin-bottom: 0px;\n",
    "    }\n",
    "\n",
    "    .answer {\n",
    "        color:blue;\n",
    "    }\n",
    "\n",
    "    .question {\n",
    "        color:red;\n",
    "    }\n",
    "\n",
    "    .note {\n",
    "        color:green;\n",
    "        font-weight: bold;\n",
    "    }\n",
    "</style>"
   ]
  },
  {
   "cell_type": "code",
   "execution_count": null,
   "metadata": {},
   "outputs": [],
   "source": [
    "#\n",
    "# assure le reload de src si modifications sont faite\n",
    "#\n",
    "%load_ext autoreload\n",
    "%autoreload 2"
   ]
  },
  {
   "cell_type": "code",
   "execution_count": null,
   "metadata": {},
   "outputs": [],
   "source": [
    "#\n",
    "# import utilitaires\n",
    "#\n",
    "%matplotlib inline\n",
    "\n",
    "import math\n",
    "import matplotlib.pyplot as plt\n",
    "import numpy as np\n",
    "import pandas as pd\n",
    "import scipy as sp\n",
    "import seaborn as sns\n",
    "\n",
    "from pathlib import Path\n",
    "from sklearn.preprocessing import StandardScaler\n",
    "from sklearn.model_selection import train_test_split"
   ]
  },
  {
   "cell_type": "code",
   "execution_count": null,
   "metadata": {},
   "outputs": [],
   "source": [
    "#\n",
    "# import package develope pour le projet\n",
    "#\n",
    "import aihelpers.unsupervised as ai\n",
    "import aihelpers.unsupervised.association_rules as rules"
   ]
  },
  {
   "cell_type": "code",
   "execution_count": null,
   "metadata": {},
   "outputs": [],
   "source": [
    "#\n",
    "# import keras\n",
    "#\n",
    "from keras.models import Model\n",
    "from keras.layers import (\n",
    "    BatchNormalization,\n",
    "    Dense,\n",
    "    Dropout,\n",
    "    Input\n",
    ")\n",
    "from keras.optimizers import Adam\n",
    "from keras.losses import (\n",
    "    SparseCategoricalCrossentropy,\n",
    "    BinaryCrossentropy,\n",
    "    CategoricalCrossentropy\n",
    ")\n",
    "from keras.callbacks import Callback\n",
    "from tqdm.keras import TqdmCallback"
   ]
  },
  {
   "cell_type": "code",
   "execution_count": null,
   "metadata": {},
   "outputs": [],
   "source": [
    "#\n",
    "# utilitaire keras pour entrainement et test\n",
    "#\n",
    "class MetricLoggerCallback(Callback):\n",
    "    def __init__(self):\n",
    "        # TODO: init proprietes necessaire pour logger les metriques\n",
    "        pass\n",
    "\n",
    "    def on_epoch_end(self, epoch, logs=None):\n",
    "        # TODO: logger metriques durant apprentissage\n",
    "        pass\n",
    "\n",
    "def train_model(model,\n",
    "          x_train, \n",
    "          y_train,\n",
    "          x_validation, \n",
    "          y_validation,\n",
    "          epochs=100,\n",
    "          batch_size=64):\n",
    "    metric_logger = MetricLoggerCallback()\n",
    "    model.fit(x_train, y_train,\n",
    "              epochs=epochs,\n",
    "              batch_size=batch_size,\n",
    "              validation_data=(x_validation, y_validation),\n",
    "              verbose=0,\n",
    "              callbacks=[TqdmCallback(), metric_logger])\n",
    "\n",
    "def test_model(model, x_test, y_test):\n",
    "    # TODO\n",
    "    pass"
   ]
  },
  {
   "cell_type": "code",
   "execution_count": null,
   "metadata": {},
   "outputs": [],
   "source": [
    "#\n",
    "# TODO: visualise, load, split et one hot encode data ici\n",
    "#\n",
    "\n",
    "operators = [\"Avril\", \"Jo\", \"Azrael\", \"Lucky Luck\"]\n",
    "machines = [\"Death\", \"Destruction\", \"Dream\", \"Desire\", \"Delirium\", \"Despair\", \"Sauron\", \"Deadpool\"]\n",
    "size = 50\n",
    "\n",
    "data = pd.DataFrame({\n",
    "    \"operators\": np.random.choice(operators, size=size),\n",
    "    \"machines\": np.random.choice(machines, size=size),\n",
    "})\n",
    "\n",
    "# creation set de train, validation et test \n",
    "data_train, data_validation = train_test_split(data,\n",
    "                                               train_size=0.8,\n",
    "                                               random_state=42,\n",
    "                                               stratify=None)\n",
    "data_train, data_test = train_test_split(data_train,\n",
    "                                         train_size=0.8,\n",
    "                                         random_state=24,\n",
    "                                         stratify=None)\n",
    "\n",
    "data_train.reset_index(inplace=True, drop=True)\n",
    "data_validation.reset_index(inplace=True, drop=True)\n",
    "data_test.reset_index(inplace=True, drop=True)"
   ]
  },
  {
   "cell_type": "code",
   "execution_count": null,
   "metadata": {},
   "outputs": [],
   "source": [
    "#\n",
    "# model simple\n",
    "#\n",
    "inputs = Input(shape=(10, 10))\n",
    "\n",
    "# block 0\n",
    "features = BatchNormalization()(inputs)\n",
    "features = Dropout(rate=0.2)(features)\n",
    "features = Dense(units=512,\n",
    "                 activation=\"relu\")(features)\n",
    "\n",
    "# block 1\n",
    "features = BatchNormalization()(features)\n",
    "features = Dropout(rate=0.2)(features)\n",
    "features = Dense(units=256,\n",
    "                 activation=\"relu\")(features)\n",
    "\n",
    "model = Model(inputs=inputs, outputs=features)\n",
    "model.compile(optimizer=Adam(learning_rate=1e-4),\n",
    "              loss=CategoricalCrossentropy(from_logits=False))\n",
    "\n",
    "model.summary()"
   ]
  },
  {
   "cell_type": "code",
   "execution_count": null,
   "metadata": {},
   "outputs": [],
   "source": [
    "#\n",
    "# entrainement du modele\n",
    "#\n",
    "train_model(model,\n",
    "            data_train.iloc[:, :1],\n",
    "            data_train.iloc[:, 1:],\n",
    "            data_validation.iloc[:, :1],\n",
    "            data_validation.iloc[:, 1:],\n",
    "            epochs=5,\n",
    "            batch_size=5)"
   ]
  },
  {
   "cell_type": "code",
   "execution_count": null,
   "metadata": {},
   "outputs": [],
   "source": []
  }
 ],
 "metadata": {
  "colab": {
   "name": "rl_tp.ipynb",
   "provenance": []
  },
  "hide_input": false,
  "kernelspec": {
   "display_name": "AIProject",
   "language": "python",
   "name": "aiproject"
  },
  "language_info": {
   "codemirror_mode": {
    "name": "ipython",
    "version": 3
   },
   "file_extension": ".py",
   "mimetype": "text/x-python",
   "name": "python",
   "nbconvert_exporter": "python",
   "pygments_lexer": "ipython3",
   "version": "3.9.13"
  },
  "toc": {
   "base_numbering": 1,
   "nav_menu": {},
   "number_sections": false,
   "sideBar": true,
   "skip_h1_title": false,
   "title_cell": "Table of Contents",
   "title_sidebar": "Contents",
   "toc_cell": false,
   "toc_position": {},
   "toc_section_display": true,
   "toc_window_display": false
  },
  "varInspector": {
   "cols": {
    "lenName": 16,
    "lenType": 16,
    "lenVar": 40
   },
   "kernels_config": {
    "python": {
     "delete_cmd_postfix": "",
     "delete_cmd_prefix": "del ",
     "library": "var_list.py",
     "varRefreshCmd": "print(var_dic_list())"
    },
    "r": {
     "delete_cmd_postfix": ") ",
     "delete_cmd_prefix": "rm(",
     "library": "var_list.r",
     "varRefreshCmd": "cat(var_dic_list()) "
    }
   },
   "types_to_exclude": [
    "module",
    "function",
    "builtin_function_or_method",
    "instance",
    "_Feature"
   ],
   "window_display": false
  },
  "widgets": {
   "application/vnd.jupyter.widget-state+json": {
    "state": {},
    "version_major": 2,
    "version_minor": 0
   }
  }
 },
 "nbformat": 4,
 "nbformat_minor": 4
}
